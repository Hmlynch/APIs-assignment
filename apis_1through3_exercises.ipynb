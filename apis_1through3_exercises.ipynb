{
 "cells": [
  {
   "cell_type": "markdown",
   "metadata": {},
   "source": [
    "Exercise 1:\n",
    "\n",
    "Create a Method prints an image of your pokemon\n",
    "HINT: You may need another attribute as well to store your image url within."
   ]
  },
  {
   "cell_type": "markdown",
   "metadata": {},
   "source": [
    "Exercise 2:\n",
    "\n",
    "Create a Method that evolves your Pokemon\n",
    "If your pokemon can't evolve any further print a message that says \"<name of pokemon> can't evolve.\""
   ]
  },
  {
   "cell_type": "markdown",
   "metadata": {},
   "source": [
    "Final Exercise:\n",
    "\n",
    "Create a Move_Tutor Class that will allow the Pokemon Class to inherit a move list. OPTIONAL\n",
    "\n",
    "for an added bonus you can make sure that if a pokemon has 4 moves the user can choose one of them to replace with a new move."
   ]
  },
  {
   "cell_type": "code",
   "execution_count": 25,
   "metadata": {},
   "outputs": [
    {
     "ename": "ModuleNotFoundError",
     "evalue": "No module named 'requests'",
     "output_type": "error",
     "traceback": [
      "\u001b[0;31m---------------------------------------------------------------------------\u001b[0m",
      "\u001b[0;31mModuleNotFoundError\u001b[0m                       Traceback (most recent call last)",
      "Cell \u001b[0;32mIn [25], line 1\u001b[0m\n\u001b[0;32m----> 1\u001b[0m \u001b[39mimport\u001b[39;00m \u001b[39mrequests\u001b[39;00m\n\u001b[1;32m      3\u001b[0m \u001b[39mclass\u001b[39;00m \u001b[39mPokemon\u001b[39;00m():\n\u001b[1;32m      4\u001b[0m     \u001b[39mdef\u001b[39;00m \u001b[39m__init__\u001b[39m(\u001b[39mself\u001b[39m, name):\n",
      "\u001b[0;31mModuleNotFoundError\u001b[0m: No module named 'requests'"
     ]
    }
   ],
   "source": [
    "import requests\n",
    "\n",
    "class Pokemon():\n",
    "    def __init__(self, name):\n",
    "        self.abilities = []\n",
    "        self.name = name\n",
    "        self.types = []\n",
    "        self.weight = None\n",
    "        self.height = None\n",
    "        self.sprite = None\n",
    "        self.poke_api_call()\n",
    "        \n",
    "    def poke_api_call(self):\n",
    "        response = requests.get(f'https://pokeapi.co/api/v2/pokemon/{self.name}')\n",
    "\n",
    "        if response.status_code == 200:\n",
    "            data = response.json()\n",
    "        else:\n",
    "            return 'Error'\n",
    "\n",
    "        ability_names = [item['ability']['name'] for item in data['abilities']]\n",
    "        \n",
    "        self.types = data['types']\n",
    "        self.abilities = ability_names\n",
    "        self.weight = data['weight']\n",
    "        self.height = data['height']\n",
    "        self.sprite = data['sprites']['front_default']"
   ]
  },
  {
   "cell_type": "code",
   "execution_count": 22,
   "metadata": {},
   "outputs": [],
   "source": [
    "class Pokedex:\n",
    "    def __init__(self, player_name):\n",
    "        self.player_name = player_name\n",
    "        self.pokemon = {}\n",
    "        \n",
    "    def add_pokemon(self, name):\n",
    "        self.pokemon[name] = Pokemon(name)\n",
    "        print(f\"{name} was added to {self.player_name}'s pokedex.\")\n",
    "        \n",
    "    def search(self, name):\n",
    "        if name in self.pokemon:\n",
    "            x = self.pokemon[name]\n",
    "            print(f\"This pokemon has {x.height} ftt tall.\")\n",
    "            print(f\"This pokemon has a weight of {x.weight} lbs.\")\n",
    "            print(f\"This pokemon is able to use {x.abilities} at this level.\")\n",
    "            print(f\"\")"
   ]
  },
  {
   "cell_type": "code",
   "execution_count": 23,
   "metadata": {},
   "outputs": [],
   "source": [
    "\n",
    "from IPython.display import Image\n",
    " \n",
    " # Exercise 1:\n",
    "\n",
    "def image_search(self, name):\n",
    "    if name in self.pokemon:\n",
    "        x = self.pokemon[name]\n",
    "        print(f\"This is a picture of your pokemon {x.sprite}\")\n",
    "#       display(Image())\n",
    "        display(Image(x.sprite, width = 300))\n",
    "\n",
    "    # Exercise 2:\n",
    "\n",
    "def evolution(self, name):\n",
    "    if name in self.pokemon:\n",
    "        x = self.pokemon[name]\n",
    "        print(f\"Your {name} is evolving. Press B to not evolve.\")"
   ]
  },
  {
   "cell_type": "code",
   "execution_count": 24,
   "metadata": {},
   "outputs": [
    {
     "ename": "NameError",
     "evalue": "name 'requests' is not defined",
     "output_type": "error",
     "traceback": [
      "\u001b[0;31m---------------------------------------------------------------------------\u001b[0m",
      "\u001b[0;31mNameError\u001b[0m                                 Traceback (most recent call last)",
      "Cell \u001b[0;32mIn [24], line 1\u001b[0m\n\u001b[0;32m----> 1\u001b[0m hayden_pokedex \u001b[39m=\u001b[39m Pokemon(\u001b[39m'\u001b[39;49m\u001b[39mhayden\u001b[39;49m\u001b[39m'\u001b[39;49m)\n",
      "Cell \u001b[0;32mIn [21], line 9\u001b[0m, in \u001b[0;36mPokemon.__init__\u001b[0;34m(self, name)\u001b[0m\n\u001b[1;32m      7\u001b[0m \u001b[39mself\u001b[39m\u001b[39m.\u001b[39mheight \u001b[39m=\u001b[39m \u001b[39mNone\u001b[39;00m\n\u001b[1;32m      8\u001b[0m \u001b[39mself\u001b[39m\u001b[39m.\u001b[39msprite \u001b[39m=\u001b[39m \u001b[39mNone\u001b[39;00m\n\u001b[0;32m----> 9\u001b[0m \u001b[39mself\u001b[39;49m\u001b[39m.\u001b[39;49mpoke_api_call()\n",
      "Cell \u001b[0;32mIn [21], line 12\u001b[0m, in \u001b[0;36mPokemon.poke_api_call\u001b[0;34m(self)\u001b[0m\n\u001b[1;32m     11\u001b[0m \u001b[39mdef\u001b[39;00m \u001b[39mpoke_api_call\u001b[39m(\u001b[39mself\u001b[39m):\n\u001b[0;32m---> 12\u001b[0m     response \u001b[39m=\u001b[39m requests\u001b[39m.\u001b[39mget(\u001b[39mf\u001b[39m\u001b[39m'\u001b[39m\u001b[39mhttps://pokeapi.co/api/v2/pokemon/\u001b[39m\u001b[39m{\u001b[39;00m\u001b[39mself\u001b[39m\u001b[39m.\u001b[39mname\u001b[39m}\u001b[39;00m\u001b[39m'\u001b[39m)\n\u001b[1;32m     14\u001b[0m     \u001b[39mif\u001b[39;00m response\u001b[39m.\u001b[39mstatus_code \u001b[39m==\u001b[39m \u001b[39m200\u001b[39m:\n\u001b[1;32m     15\u001b[0m         data \u001b[39m=\u001b[39m response\u001b[39m.\u001b[39mjson()\n",
      "\u001b[0;31mNameError\u001b[0m: name 'requests' is not defined"
     ]
    }
   ],
   "source": [
    "hayden_pokedex = Pokemon('hayden')"
   ]
  },
  {
   "cell_type": "code",
   "execution_count": null,
   "metadata": {},
   "outputs": [],
   "source": [
    "hayden_pokedex.add_pokemon('pikachu')"
   ]
  },
  {
   "cell_type": "code",
   "execution_count": null,
   "metadata": {},
   "outputs": [],
   "source": [
    "from Ipython.display import image\n",
    "hayden_pokedex.image_search('pikachu')"
   ]
  },
  {
   "cell_type": "code",
   "execution_count": null,
   "metadata": {},
   "outputs": [],
   "source": [
    "hayden_pokedex.evolution('pikachu')"
   ]
  },
  {
   "cell_type": "code",
   "execution_count": null,
   "metadata": {},
   "outputs": [],
   "source": [
    "# Optional Exercise 3: \n",
    "\n",
    "# class Move_Tutor:\n",
    "#     def __init__(self, trainer_name):\n",
    "#         self.trainer_name = trainer_name\n",
    "#         self.move_list = {}\n",
    "        \n",
    "#     def add_skill(self, name):\n",
    "#         if len(self.move_list) < 4:\n",
    "#             self.move_list[name] = Move_Tutor(name)\n",
    "#             print(f\"....Poof! {self.trainer_name} added {name} to pokemon skillset\")\n",
    "#         elif len(self.move_list) >= 4:\n",
    "#                 print(f\"A move has to be deleted first.\")\n",
    "                \n",
    "#     def delete_skill(self, name):\n",
    "#         choice = input(f\"Would you like to delete move or keep current skills? (y/n)\")\n",
    "#         if choice == 'yes':\n",
    "#              self.move_list[name] = Move_Tutor(name)\n",
    "#             print(self.move_list)\n",
    "#             if response in self.move_list:\n",
    "#                 del self.move_list[response]\n",
    "#             else:\n",
    "#                 print(\"Move is not in pokemon skillset.\")\n",
    "#         elif choice == 'no':\n",
    "#             print(f\"Pokemon did not learn move.\")\n",
    "    "
   ]
  },
  {
   "cell_type": "code",
   "execution_count": null,
   "metadata": {},
   "outputs": [],
   "source": [
    "hayden = Move_Tutor(\"Hayden\")"
   ]
  },
  {
   "cell_type": "code",
   "execution_count": null,
   "metadata": {},
   "outputs": [],
   "source": [
    "hayden.add_skill('thunderbolt')"
   ]
  },
  {
   "cell_type": "code",
   "execution_count": null,
   "metadata": {},
   "outputs": [],
   "source": [
    "hayden.add_skill('surf')"
   ]
  },
  {
   "cell_type": "code",
   "execution_count": null,
   "metadata": {},
   "outputs": [],
   "source": [
    "hayden.add_skill('earthquake')"
   ]
  },
  {
   "cell_type": "code",
   "execution_count": null,
   "metadata": {},
   "outputs": [],
   "source": [
    "hayden.add_skill('razorleaf')"
   ]
  },
  {
   "cell_type": "code",
   "execution_count": null,
   "metadata": {},
   "outputs": [],
   "source": [
    "hayden.add_skill('yawn')"
   ]
  },
  {
   "cell_type": "code",
   "execution_count": null,
   "metadata": {},
   "outputs": [],
   "source": [
    "hayden.delete_skill('surf')"
   ]
  }
 ],
 "metadata": {
  "kernelspec": {
   "display_name": "Python 3.9.7 64-bit",
   "language": "python",
   "name": "python3"
  },
  "language_info": {
   "codemirror_mode": {
    "name": "ipython",
    "version": 3
   },
   "file_extension": ".py",
   "mimetype": "text/x-python",
   "name": "python",
   "nbconvert_exporter": "python",
   "pygments_lexer": "ipython3",
   "version": "3.9.7"
  },
  "orig_nbformat": 4,
  "vscode": {
   "interpreter": {
    "hash": "aee8b7b246df8f9039afb4144a1f6fd8d2ca17a180786b69acc140d282b71a49"
   }
  }
 },
 "nbformat": 4,
 "nbformat_minor": 2
}
